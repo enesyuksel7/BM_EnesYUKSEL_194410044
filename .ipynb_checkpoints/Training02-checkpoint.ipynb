{
 "cells": [
  {
   "cell_type": "markdown",
   "id": "ab5d6ba1",
   "metadata": {},
   "source": [
    "# YAPAY SİNİR AĞLARI DERSİ VİZE UYGULAMA SINAVI"
   ]
  },
  {
   "cell_type": "markdown",
   "id": "190eec94",
   "metadata": {},
   "source": [
    "## Neural-Network-Training02 Uygulaması"
   ]
  },
  {
   "cell_type": "markdown",
   "id": "eaa82d17",
   "metadata": {},
   "source": [
    "### Adı Soyadı: ENES YÜKSEL"
   ]
  },
  {
   "cell_type": "markdown",
   "id": "64ac3bc5",
   "metadata": {},
   "source": [
    "### Numara: 194410044"
   ]
  },
  {
   "cell_type": "markdown",
   "id": "778d5ec6",
   "metadata": {},
   "source": [
    "### Bölüm: Bilgisayar Mühendisliği"
   ]
  },
  {
   "cell_type": "markdown",
   "id": "a4fe247a",
   "metadata": {},
   "source": [
    "### Sınıf: 4. Sınıf"
   ]
  },
  {
   "cell_type": "markdown",
   "id": "157d9bf7",
   "metadata": {},
   "source": [
    "### Tarih: 14.11.2022"
   ]
  },
  {
   "cell_type": "markdown",
   "id": "64f9f3ac",
   "metadata": {},
   "source": [
    "Adım 1: Numpy, Sklearn ve Matplotlib kütüphaneleri tanımlanır"
   ]
  },
  {
   "cell_type": "code",
   "execution_count": 3,
   "id": "14a5d359",
   "metadata": {},
   "outputs": [],
   "source": [
    "import numpy as np\n",
    "from sklearn.preprocessing import MinMaxScaler\n",
    "import matplotlib.pyplot as plt"
   ]
  },
  {
   "cell_type": "markdown",
   "id": "2b2654ab",
   "metadata": {},
   "source": [
    "Adım 2: Sinir ağında 1x3’lük vektörler, ilk eleman olarak 10 ile sınıflandırışır. Giriş ve çıkış eğitimi ve test kümeleri oluşturulur. Sonradan tanımlanacak bir tahmin işlevini test etmek için input_pred oluşturulur. Eğitim ve test verileri, altı örnekten oluşur ve denetimli öğrenme yöntemi kullanılır"
   ]
  },
  {
   "cell_type": "code",
   "execution_count": 4,
   "id": "0c59203d",
   "metadata": {},
   "outputs": [],
   "source": [
    "input_train = np.array([[0, 1, 0], [0, 1, 1], [0, 0, 0], [10, 0, 0], [10, 1, 1], [10, 0, 1]])\n",
    "output_train = np.array([[0], [0], [0], [1], [1], [1]])\n",
    "input_pred = np.array([1, 1, 0])  \n",
    "input_test = np.array([[1, 1, 1], [10, 0, 1], [0, 1, 10], [10, 1, 10], [0, 0, 0], [0, 1, 1]])\n",
    "output_test = np.array([[0], [1], [0], [1], [0], [0]])"
   ]
  },
  {
   "cell_type": "markdown",
   "id": "9c2976f8",
   "metadata": {},
   "source": [
    "Adım 3: MinMaxScaler nesnesi oluşturulur ve ölçeklendirilmemiş verilere girdi olarak fit_transform işlevini kullanılır. İşlev, ölçeklenen ile aynı verileri döndürür"
   ]
  },
  {
   "cell_type": "code",
   "execution_count": 5,
   "id": "f16e19b2",
   "metadata": {},
   "outputs": [],
   "source": [
    "scaler = MinMaxScaler()\n",
    "input_train_scaled = scaler.fit_transform(input_train)\n",
    "output_train_scaled = scaler.fit_transform(output_train)\n",
    "input_test_scaled = scaler.fit_transform(input_test)\n",
    "output_test_scaled = scaler.fit_transform(output_test)"
   ]
  },
  {
   "cell_type": "markdown",
   "id": "a18865ae",
   "metadata": {},
   "source": [
    "Adım 4: Girdi verilerindeki özellik sayısına eşit olması gereken girdi düğümlerinin sayısı, çıkış düğümlerinin sayısı, gizli katmandaki düğüm sayısı tanımlanır. Eğitim sırasında ayarlanacak ağımızdaki farklı düğümler arasında ağırlıklar olacaktır. error_list, ortalama mutlak hatayı içerecek şekilde tanımlanmıştır. Ardından TP, FP, TN, FN değerleri tanımlanır"
   ]
  },
  {
   "cell_type": "code",
   "execution_count": 6,
   "id": "16e6eacd",
   "metadata": {},
   "outputs": [],
   "source": [
    "inputSize = 3\n",
    "outputSize = 1\n",
    "hiddenSize = 3\n",
    "\n",
    "W1 = np.random.rand(inputSize, hiddenSize)\n",
    "W2 = np.random.rand(hiddenSize, outputSize)\n",
    "\n",
    "error_list = []\n",
    "limit = 0.5\n",
    "true_positives = 0\n",
    "false_positives = 0\n",
    "true_negatives = 0\n",
    "false_negatives = 0"
   ]
  },
  {
   "cell_type": "markdown",
   "id": "1b8170ac",
   "metadata": {},
   "source": [
    "Adım 5: Eksponansiyel işlemler yapılan Sigmoid ve Sigmoid Prime fonksiyonları oluşturulur"
   ]
  },
  {
   "cell_type": "code",
   "execution_count": 7,
   "id": "43d0b558",
   "metadata": {},
   "outputs": [],
   "source": [
    "def sigmoid(s):\n",
    "    return 1 / (1 + np.exp(-s))\n",
    "\n",
    "def sigmoidPrime(s):\n",
    "    return s * (1 - s)"
   ]
  },
  {
   "cell_type": "markdown",
   "id": "53880ffc",
   "metadata": {},
   "source": [
    "Adım 6: Çıktıyı tahmin etmek için sinir ağının farklı katmanları arasında ileriye doğru yineleme yapan İleri Yayma fonksiyonu tanımlanır"
   ]
  },
  {
   "cell_type": "code",
   "execution_count": 8,
   "id": "3b405cbf",
   "metadata": {},
   "outputs": [],
   "source": [
    "def forward(X):\n",
    "    global z,z2,z3\n",
    "    z = np.matmul(X, W1)\n",
    "    z2 = sigmoid(z)\n",
    "    z3 = np.matmul(z2, W2)\n",
    "    o = sigmoid(z3)\n",
    "    return o"
   ]
  },
  {
   "cell_type": "markdown",
   "id": "fc0e4a5f",
   "metadata": {},
   "source": [
    "Adım 7: Sinir ağındaki farklı düğümler için ağırlıkları güncelleyen Geri Yayılım fonksiyonu yazılır"
   ]
  },
  {
   "cell_type": "code",
   "execution_count": 9,
   "id": "1b4b88ad",
   "metadata": {},
   "outputs": [],
   "source": [
    "def backward(X, y, o):\n",
    "    global z2,W2,W1,o_error\n",
    "    o_error = y - o\n",
    "    o_delta = o_error * sigmoidPrime(o)\n",
    "    z2_error = np.matmul(o_delta, np.matrix.transpose(W2))\n",
    "    z2_delta = z2_error * sigmoidPrime(z2)\n",
    "    W1 += np.matmul(np.matrix.transpose(X), z2_delta)\n",
    "    W2 += np.matmul(np.matrix.transpose(z2), o_delta)"
   ]
  },
  {
   "cell_type": "markdown",
   "id": "0b840837",
   "metadata": {},
   "source": [
    "Adım 8: En hassas ağırlıkları elde etmek için gerekli olan ve eğitim sırasında, algoritma ileri-geri geçişte çalışacak ve böylece ağırlıkları güncelleyecek Eğitim Fonksiyonu oluşturulur."
   ]
  },
  {
   "cell_type": "code",
   "execution_count": 10,
   "id": "f13fc4b8",
   "metadata": {},
   "outputs": [],
   "source": [
    "def train(X, y, epochs): \n",
    "    global o_error\n",
    "    for epoch in range(epochs): \n",
    "        o = forward(X)\n",
    "        backward(X, y, o)\n",
    "        error_list.append(np.abs(o_error).mean())"
   ]
  },
  {
   "cell_type": "markdown",
   "id": "3271718c",
   "metadata": {},
   "source": [
    "Adım 9: İleri Yayma fonksiyonu ile dönüt alınan Tahmin Fonksiyonu tanımlanır"
   ]
  },
  {
   "cell_type": "code",
   "execution_count": 11,
   "id": "de858e00",
   "metadata": {},
   "outputs": [],
   "source": [
    "def predict(x_predicted):\n",
    "    return forward(x_predicted).item()"
   ]
  },
  {
   "cell_type": "markdown",
   "id": "26d6393f",
   "metadata": {},
   "source": [
    "Adım 10: Makine öğrenimi algoritmalarının kalitesini değerlendiren Ortalama Mutlak Hata gelişimi çizilir"
   ]
  },
  {
   "cell_type": "code",
   "execution_count": 12,
   "id": "e996845b",
   "metadata": {},
   "outputs": [],
   "source": [
    "def view_error_development():\n",
    "    plt.plot(range(len(error_list)), error_list)\n",
    "    plt.title('Mean Sum Squared Loss')\n",
    "    plt.xlabel('Epoch')\n",
    "    plt.ylabel('Loss')"
   ]
  },
  {
   "cell_type": "markdown",
   "id": "37699627",
   "metadata": {},
   "source": [
    "Adım 11: TP, FN, FP, TN sayıkarının verildiği, makine öğrenmesi sınıflandırma algoritması kullanılan, doğruluk değerini hesaplayan test fonksiyonu yazılır"
   ]
  },
  {
   "cell_type": "code",
   "execution_count": 13,
   "id": "0eb72e10",
   "metadata": {},
   "outputs": [],
   "source": [
    "def test_evaluation(input_test, output_test):\n",
    "    global true_positives, true_negatives, false_positives, false_negatives\n",
    "    for i, test_element in enumerate(input_test):\n",
    "        if predict(test_element) > limit and output_test[i] == 1:\n",
    "           true_positives += 1\n",
    "        if predict(test_element) < limit and output_test[i] == 1:\n",
    "           false_negatives += 1\n",
    "        if predict(test_element) > limit and output_test[i] == 0:\n",
    "           false_positives += 1\n",
    "        if predict(test_element) < limit and output_test[i] == 0:\n",
    "           true_negatives += 1\n",
    "\n",
    "        print('True positives: ', true_positives,\n",
    "              '\\nTrue negatives: ', true_negatives,\n",
    "              '\\nFalse positives: ', false_positives,\n",
    "              '\\nFalse negatives: ', false_negatives,\n",
    "              '\\nAccuracy: ',\n",
    "              (true_positives + true_negatives) / (true_positives + true_negatives + false_positives + false_negatives))"
   ]
  },
  {
   "cell_type": "markdown",
   "id": "b62e3b2d",
   "metadata": {},
   "source": [
    "Adım 12: Sinir ağı modelini eğiten ve değerlendiren fonksiyonlar çalıştırılır"
   ]
  },
  {
   "cell_type": "code",
   "execution_count": 14,
   "id": "daa339bb",
   "metadata": {
    "scrolled": true
   },
   "outputs": [
    {
     "name": "stdout",
     "output_type": "stream",
     "text": [
      "True positives:  0 \n",
      "True negatives:  1 \n",
      "False positives:  0 \n",
      "False negatives:  0 \n",
      "Accuracy:  1.0\n",
      "True positives:  1 \n",
      "True negatives:  1 \n",
      "False positives:  0 \n",
      "False negatives:  0 \n",
      "Accuracy:  1.0\n",
      "True positives:  1 \n",
      "True negatives:  2 \n",
      "False positives:  0 \n",
      "False negatives:  0 \n",
      "Accuracy:  1.0\n",
      "True positives:  2 \n",
      "True negatives:  2 \n",
      "False positives:  0 \n",
      "False negatives:  0 \n",
      "Accuracy:  1.0\n",
      "True positives:  2 \n",
      "True negatives:  3 \n",
      "False positives:  0 \n",
      "False negatives:  0 \n",
      "Accuracy:  1.0\n",
      "True positives:  2 \n",
      "True negatives:  4 \n",
      "False positives:  0 \n",
      "False negatives:  0 \n",
      "Accuracy:  1.0\n"
     ]
    },
    {
     "data": {
      "image/png": "[encoded data removed]",
      "text/plain": [
       "<Figure size 432x288 with 1 Axes>"
      ]
     },
     "metadata": {
      "needs_background": "light"
     },
     "output_type": "display_data"
    }
   ],
   "source": [
    "train(input_train_scaled, output_train_scaled, 200)\n",
    "predict(input_pred)\n",
    "view_error_development()\n",
    "test_evaluation(input_test_scaled, output_test_scaled)"
   ]
  },
  {
   "cell_type": "markdown",
   "id": "a9ac0d02",
   "metadata": {},
   "source": [
    "Sonuç: \n",
    "test_evaluation fonksiyonundan şu sonuçları alırız:\n",
    "\n",
    "TP: 2 TN: 4 FP: 0 FN: 0"
   ]
  }
 ],
 "metadata": {
  "kernelspec": {
   "display_name": "Python 3 (ipykernel)",
   "language": "python",
   "name": "python3"
  },
  "language_info": {
   "codemirror_mode": {
    "name": "ipython",
    "version": 3
   },
   "file_extension": ".py",
   "mimetype": "text/x-python",
   "name": "python",
   "nbconvert_exporter": "python",
   "pygments_lexer": "ipython3",
   "version": "3.9.7"
  }
 },
 "nbformat": 4,
 "nbformat_minor": 5
}
