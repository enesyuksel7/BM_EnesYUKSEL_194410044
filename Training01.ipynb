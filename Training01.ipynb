{
 "cells": [
  {
   "cell_type": "markdown",
   "id": "ab5d6ba1",
   "metadata": {},
   "source": [
    "# YAPAY SİNİR AĞLARI DERSİ VİZE UYGULAMA SINAVI"
   ]
  },
  {
   "cell_type": "markdown",
   "id": "190eec94",
   "metadata": {},
   "source": [
    "## Neural-Network-Training01 Uygulaması"
   ]
  },
  {
   "cell_type": "markdown",
   "id": "eaa82d17",
   "metadata": {},
   "source": [
    "### Adı Soyadı: ENES YÜKSEL"
   ]
  },
  {
   "cell_type": "markdown",
   "id": "64ac3bc5",
   "metadata": {},
   "source": [
    "### Numara: 194410044"
   ]
  },
  {
   "cell_type": "markdown",
   "id": "778d5ec6",
   "metadata": {},
   "source": [
    "### Bölüm: Bilgisayar Mühendisliği"
   ]
  },
  {
   "cell_type": "markdown",
   "id": "a4fe247a",
   "metadata": {},
   "source": [
    "### Sınıf: 4. Sınıf"
   ]
  },
  {
   "cell_type": "markdown",
   "id": "157d9bf7",
   "metadata": {},
   "source": [
    "### Tarih: 14.11.2022"
   ]
  },
  {
   "cell_type": "markdown",
   "id": "64f9f3ac",
   "metadata": {},
   "source": [
    "Adım 1: Numpy kütüphanesi tanımlanır"
   ]
  },
  {
   "cell_type": "code",
   "execution_count": 3,
   "id": "14a5d359",
   "metadata": {},
   "outputs": [],
   "source": [
    "import numpy as np"
   ]
  },
  {
   "cell_type": "markdown",
   "id": "2b2654ab",
   "metadata": {},
   "source": [
    "Adım 2: Rastgele sayı üretecini başlatmak için random.seed() fonksiyonu yazılır"
   ]
  },
  {
   "cell_type": "code",
   "execution_count": 6,
   "id": "0c59203d",
   "metadata": {},
   "outputs": [],
   "source": [
    "np.random.seed(1)"
   ]
  },
  {
   "cell_type": "markdown",
   "id": "3b5e10f3",
   "metadata": {},
   "source": [
    "Adım 3: \"synaptic_weights\" değişkenine çok boyutlu, -1 ve 0 değerleri aralığında rastgele tek eleman içeren 3 dizi oluşumu aktarılır"
   ]
  },
  {
   "cell_type": "code",
   "execution_count": 8,
   "id": "ca9471a7",
   "metadata": {},
   "outputs": [],
   "source": [
    "synaptic_weights = 2 * np.random.random((3, 1)) - 1"
   ]
  },
  {
   "cell_type": "markdown",
   "id": "ab75d3dc",
   "metadata": {},
   "source": [
    "Adım 4: \"x\" parametresini içeren Sigmoid fonksiyonu tanımlanır"
   ]
  },
  {
   "cell_type": "code",
   "execution_count": 9,
   "id": "3c119095",
   "metadata": {},
   "outputs": [],
   "source": [
    "def sigmoid(x):\n",
    "    return 1 / (1 + np.exp(-x))"
   ]
  },
  {
   "cell_type": "markdown",
   "id": "f0042e28",
   "metadata": {},
   "source": [
    "Adım 5: Sigmoid fonksiyonunun türev hesaplama metodu tanımlanır"
   ]
  },
  {
   "cell_type": "code",
   "execution_count": 10,
   "id": "41a96601",
   "metadata": {},
   "outputs": [],
   "source": [
    "def sigmoid_derivative(x):\n",
    "    return x * (1 - x)"
   ]
  },
  {
   "cell_type": "markdown",
   "id": "ce08492d",
   "metadata": {},
   "source": [
    "Adım 6: Model eğitimi için ağırlık ayarlama işlemleri yapılır. Nöron aracılığıyla eğitim verileri işlenir. Geriye yayılan hata oranı hesaplanır. Hatanın boyutuna göre \"Hata Ağırlıklı Türev\" formülü ile çeşitli ağırlık ayarlamaları yapılır"
   ]
  },
  {
   "cell_type": "code",
   "execution_count": 11,
   "id": "a95dada2",
   "metadata": {},
   "outputs": [],
   "source": [
    "def train(training_inputs, training_outputs, training_iterations):\n",
    "    global synaptic_weights\n",
    "    for iteration in range(training_iterations):\n",
    "        output = think(training_inputs)\n",
    "        error = training_outputs - output\n",
    "        adjustments = np.dot(training_inputs.T, error * sigmoid_derivative(output))\n",
    "        synaptic_weights += adjustments"
   ]
  },
  {
   "cell_type": "markdown",
   "id": "20eeb4fa",
   "metadata": {},
   "source": [
    "Adım 7: Girdiler, \"inputs\" parametresi ile nöron aracılığıyla geçirilir. Girdilerin float değerleri çıktılara aktarılır"
   ]
  },
  {
   "cell_type": "code",
   "execution_count": 12,
   "id": "d655afba",
   "metadata": {},
   "outputs": [],
   "source": [
    "def think(inputs):\n",
    "    inputs = inputs.astype(float)\n",
    "    output = sigmoid(np.dot(inputs, synaptic_weights))\n",
    "    return output"
   ]
  },
  {
   "cell_type": "markdown",
   "id": "680ca4c7",
   "metadata": {},
   "source": [
    "Adım 8: Eğitim girdi ve çıktıları ayarlanır. Eğitim işlemi 15.000 defa tekrarlanır. Her çalışmada eğitim setinin tamamı aynı anda işleme koyulur."
   ]
  },
  {
   "cell_type": "code",
   "execution_count": 13,
   "id": "4b5a003f",
   "metadata": {},
   "outputs": [
    {
     "name": "stdout",
     "output_type": "stream",
     "text": [
      "Rastgele olarak oluşturulan ağırlıkların başlangıcı: \n",
      "[[-0.16595599]\n",
      " [ 0.44064899]\n",
      " [-0.99977125]]\n",
      "Eğitimden sonraki bitiş ağırlıkları: \n",
      "[[10.08740896]\n",
      " [-0.20695366]\n",
      " [-4.83757835]]\n",
      "Kullanıcı girişi bir: 1\n",
      "Kullanıcı girişi iki: 0\n",
      "Kullanıcı girişi üç: 0\n",
      "Yeni duruma göre: 1 0 0\n",
      "Yeni çıktı verileri:\n",
      "[0.9999584]\n",
      "Başardık :) \n"
     ]
    }
   ],
   "source": [
    "print(\"Rastgele olarak oluşturulan ağırlıkların başlangıcı: \")\n",
    "print(synaptic_weights)\n",
    "\n",
    "training_inputs = np.array([[0,0,1],\n",
    "                            [1,1,1],\n",
    "                            [1,0,1],\n",
    "                            [0,1,1]])\n",
    "training_outputs = np.array([[0,1,1,0]]).T\n",
    "\n",
    "train(training_inputs, training_outputs, 15000) \n",
    "\n",
    "print(\"Eğitimden sonraki bitiş ağırlıkları: \")\n",
    "print(synaptic_weights)\n",
    "\n",
    "user_input_one = str(input(\"Kullanıcı girişi bir: \"))\n",
    "user_input_two = str(input(\"Kullanıcı girişi iki: \"))\n",
    "user_input_three = str(input(\"Kullanıcı girişi üç: \"))\n",
    "    \n",
    "print(\"Yeni duruma göre:\", user_input_one, user_input_two, user_input_three)\n",
    "print(\"Yeni çıktı verileri:\")\n",
    "print(think(np.array([user_input_one, user_input_two, user_input_three])))\n",
    "print(\"Başardık :) \")"
   ]
  },
  {
   "cell_type": "markdown",
   "id": "31b90058",
   "metadata": {},
   "source": [
    "Tüm işlemlerin sonucunda eğitim verileri için nöronun ağırlıkları optimize edilmiştir. Nörona bir öncekinin aynısı olan yeni bir durum hakkında düşündürülüp, doğru bir tahminde bulunulmuştur. Geri yayılım gerçekleşmiştir."
   ]
  }
 ],
 "metadata": {
  "kernelspec": {
   "display_name": "Python 3 (ipykernel)",
   "language": "python",
   "name": "python3"
  },
  "language_info": {
   "codemirror_mode": {
    "name": "ipython",
    "version": 3
   },
   "file_extension": ".py",
   "mimetype": "text/x-python",
   "name": "python",
   "nbconvert_exporter": "python",
   "pygments_lexer": "ipython3",
   "version": "3.9.7"
  }
 },
 "nbformat": 4,
 "nbformat_minor": 5
}
