{
 "cells": [
  {
   "cell_type": "markdown",
   "id": "ab5d6ba1",
   "metadata": {},
   "source": [
    "# YAPAY SİNİR AĞLARI DERSİ VİZE UYGULAMA SINAVI"
   ]
  },
  {
   "cell_type": "markdown",
   "id": "190eec94",
   "metadata": {},
   "source": [
    "## Neural-Network-Training03 Uygulaması"
   ]
  },
  {
   "cell_type": "markdown",
   "id": "eaa82d17",
   "metadata": {},
   "source": [
    "### ADI VE SOYADI: Enes Yüksel"
   ]
  },
  {
   "cell_type": "markdown",
   "id": "64ac3bc5",
   "metadata": {},
   "source": [
    "### NUMARA: 194410044"
   ]
  },
  {
   "cell_type": "markdown",
   "id": "778d5ec6",
   "metadata": {},
   "source": [
    "### BÖLÜM: Bilgisayar Mühendisliği"
   ]
  },
  {
   "cell_type": "markdown",
   "id": "a4fe247a",
   "metadata": {},
   "source": [
    "### SINIF: 4. Sınıf"
   ]
  },
  {
   "cell_type": "markdown",
   "id": "157d9bf7",
   "metadata": {},
   "source": [
    "### TARİH: 26.11.2022"
   ]
  },
  {
   "cell_type": "markdown",
   "id": "24f9bb83",
   "metadata": {},
   "source": [
    "Adım 1: Numpy, Pandas, TensorFlow kütüphaneleri tanımlanır"
   ]
  },
  {
   "cell_type": "code",
   "execution_count": 1,
   "id": "51ff4dd7",
   "metadata": {},
   "outputs": [],
   "source": [
    "import numpy as np\n",
    "import pandas as pd\n",
    "import tensorflow as tf"
   ]
  },
  {
   "cell_type": "markdown",
   "id": "11f1c705",
   "metadata": {},
   "source": [
    "Adım 2: \"Churn_Modelling\" isimli veri seti okutulur"
   ]
  },
  {
   "cell_type": "code",
   "execution_count": 2,
   "id": "a26fe81f",
   "metadata": {},
   "outputs": [],
   "source": [
    "data = pd.read_csv(\"Churn_Modelling.csv\")"
   ]
  },
  {
   "cell_type": "markdown",
   "id": "1c539b6b",
   "metadata": {},
   "source": [
    "Adım 3: Tüm bağımsız değişkenlerimizi içeren Özellikler Matrisi oluşturulur"
   ]
  },
  {
   "cell_type": "code",
   "execution_count": 3,
   "id": "ba7be964",
   "metadata": {},
   "outputs": [],
   "source": [
    "X = data.iloc[:,3:-1].values"
   ]
  },
  {
   "cell_type": "markdown",
   "id": "2f841a53",
   "metadata": {},
   "source": [
    "Adım 4: Bağımlı değişken değerlerimizi içerecek bir bağımlı değişken vektörü oluşturulur"
   ]
  },
  {
   "cell_type": "code",
   "execution_count": 4,
   "id": "7b091407",
   "metadata": {},
   "outputs": [],
   "source": [
    "Y = data.iloc[:,-1].values"
   ]
  },
  {
   "cell_type": "markdown",
   "id": "2914def9",
   "metadata": {},
   "source": [
    "Adım 5: Verileri doğrudan sayısal eşdeğerlerine dönüştüren Encoding işlemi için Sklearn kütüphanesinden LabelEncoder sınıfı tanımlanır"
   ]
  },
  {
   "cell_type": "code",
   "execution_count": 5,
   "id": "13ea7f99",
   "metadata": {},
   "outputs": [],
   "source": [
    "from sklearn.preprocessing import LabelEncoder\n",
    "LE1 = LabelEncoder()\n",
    "X[:,2] = np.array(LE1.fit_transform(X[:,2]))"
   ]
  },
  {
   "cell_type": "markdown",
   "id": "6dad8e21",
   "metadata": {},
   "source": [
    "Adım 6: Tüm dize değerlerini 0'lar ve 1'lerden oluşan ikili akışlara dönüştüren One Hot Encoding yöntemi kullanılır"
   ]
  },
  {
   "cell_type": "code",
   "execution_count": 6,
   "id": "54eca6d7",
   "metadata": {},
   "outputs": [],
   "source": [
    "from sklearn.compose import ColumnTransformer\n",
    "from sklearn.preprocessing import OneHotEncoder\n",
    "ct =ColumnTransformer(transformers=[('encoder',OneHotEncoder(),[1])],remainder=\"passthrough\")\n",
    "X = np.array(ct.fit_transform(X))"
   ]
  },
  {
   "cell_type": "markdown",
   "id": "65019fca",
   "metadata": {},
   "source": [
    "Adım 7: Veri setimizi, eğitim aşamasında verinin yüzde 80'i oranda olacak ve verinin yüzde 20'si test aşamasında olacak şekilde eğitim ve test veri setlerine ayırırız"
   ]
  },
  {
   "cell_type": "code",
   "execution_count": 7,
   "id": "3fb793bd",
   "metadata": {},
   "outputs": [],
   "source": [
    "from sklearn.model_selection import train_test_split\n",
    "X_train,X_test,Y_train,Y_test = train_test_split(X,Y,test_size=0.2,random_state=0)"
   ]
  },
  {
   "cell_type": "markdown",
   "id": "04b34be3",
   "metadata": {},
   "source": [
    "Adım 8: Aşırı yüksek değerli değişkenlerin, aşırı düşük değerli değişkenlere hakim olma ve düşük değerli değişkenlerin model tarafından ihmal edilme olasılığı için tüm değişkenlerin aynı ölçeğe dönüştürülmesi gerekir. Dağılımdan bağımsız olarak herhangi bir veri kümesi için kullanılabilen evrensel bir teknik olan Standardizasyon kullanılır"
   ]
  },
  {
   "cell_type": "code",
   "execution_count": 8,
   "id": "7af2e964",
   "metadata": {},
   "outputs": [],
   "source": [
    "from sklearn.preprocessing import StandardScaler\n",
    "sc = StandardScaler()\n",
    "X_train = sc.fit_transform(X_train)\n",
    "X_test = sc.transform(X_test)"
   ]
  },
  {
   "cell_type": "markdown",
   "id": "49630e74",
   "metadata": {},
   "source": [
    "Adım 9: \"Sequential\" Keras sınıfı kullanılarak YSA başlatılır"
   ]
  },
  {
   "cell_type": "code",
   "execution_count": 9,
   "id": "a010c322",
   "metadata": {},
   "outputs": [],
   "source": [
    "ann = tf.keras.models.Sequential()"
   ]
  },
  {
   "cell_type": "markdown",
   "id": "bb33ef70",
   "metadata": {},
   "source": [
    "Adım 10: En uygun değer olan 6'yı alan \"units\" ve hangi aktivasyon fonksiyonunun kullanılacağını belirten \"activation\" girişleri tanımlanır"
   ]
  },
  {
   "cell_type": "code",
   "execution_count": 10,
   "id": "739b660f",
   "metadata": {},
   "outputs": [],
   "source": [
    "ann.add(tf.keras.layers.Dense(units=6,activation=\"relu\"))"
   ]
  },
  {
   "cell_type": "markdown",
   "id": "8fa14f80",
   "metadata": {},
   "source": [
    "Adım 11: İki gizli katman oluşturulacağından aynı adım tekrarlanır"
   ]
  },
  {
   "cell_type": "code",
   "execution_count": 11,
   "id": "73dbb59e",
   "metadata": {},
   "outputs": [],
   "source": [
    "ann.add(tf.keras.layers.Dense(units=6,activation=\"relu\"))"
   ]
  },
  {
   "cell_type": "markdown",
   "id": "b7ea4f79",
   "metadata": {},
   "source": [
    "Adım 12: Devamındaki işlemlerde Dense sınıfı kullanılır, bir nöron tahsis edilir ve ikili sınıflandırma için sigmoid aktivasyon fonksiyonu kullanılır"
   ]
  },
  {
   "cell_type": "code",
   "execution_count": 12,
   "id": "cfd3769e",
   "metadata": {},
   "outputs": [],
   "source": [
    "ann.add(tf.keras.layers.Dense(units=1,activation=\"sigmoid\"))"
   ]
  },
  {
   "cell_type": "markdown",
   "id": "5a63402b",
   "metadata": {},
   "source": [
    "Adım 13: \"optimizer\", \"loss\", \"metrics\" girdileri ayarlanır ve YSA derlenir"
   ]
  },
  {
   "cell_type": "code",
   "execution_count": 13,
   "id": "418bc5f2",
   "metadata": {},
   "outputs": [],
   "source": [
    "ann.compile(optimizer=\"adam\",loss=\"binary_crossentropy\",metrics=['accuracy'])"
   ]
  },
  {
   "cell_type": "markdown",
   "id": "cbe94c88",
   "metadata": {},
   "source": [
    "Adım 14: YSA oluşturma sürecindeki son adım olan fitting yöntemi tanımlanır. \"X_train\", \"Y_train\", \"batch_size\" ve \"epochs\" girdileri ayarlanır"
   ]
  },
  {
   "cell_type": "code",
   "execution_count": 14,
   "id": "1cd9e69b",
   "metadata": {},
   "outputs": [
    {
     "name": "stdout",
     "output_type": "stream",
     "text": [
      "Epoch 1/100\n",
      "250/250 [==============================] - 1s 1ms/step - loss: 0.5437 - accuracy: 0.7960\n",
      "Epoch 2/100\n",
      "250/250 [==============================] - 0s 1ms/step - loss: 0.4817 - accuracy: 0.7960\n",
      "Epoch 3/100\n",
      "250/250 [==============================] - 0s 1ms/step - loss: 0.4554 - accuracy: 0.7970\n",
      "Epoch 4/100\n",
      "250/250 [==============================] - 0s 1ms/step - loss: 0.4392 - accuracy: 0.8027\n",
      "Epoch 5/100\n",
      "250/250 [==============================] - 0s 1ms/step - loss: 0.4275 - accuracy: 0.8120\n",
      "Epoch 6/100\n",
      "250/250 [==============================] - 0s 1ms/step - loss: 0.4192 - accuracy: 0.8184\n",
      "Epoch 7/100\n",
      "250/250 [==============================] - 0s 1ms/step - loss: 0.4134 - accuracy: 0.8231\n",
      "Epoch 8/100\n",
      "250/250 [==============================] - 0s 1ms/step - loss: 0.4094 - accuracy: 0.8267\n",
      "Epoch 9/100\n",
      "250/250 [==============================] - 0s 1ms/step - loss: 0.4059 - accuracy: 0.8304\n",
      "Epoch 10/100\n",
      "250/250 [==============================] - 0s 1ms/step - loss: 0.4033 - accuracy: 0.8322\n",
      "Epoch 11/100\n",
      "250/250 [==============================] - 0s 1ms/step - loss: 0.4009 - accuracy: 0.8331\n",
      "Epoch 12/100\n",
      "250/250 [==============================] - 0s 1ms/step - loss: 0.3987 - accuracy: 0.8353\n",
      "Epoch 13/100\n",
      "250/250 [==============================] - 0s 1ms/step - loss: 0.3969 - accuracy: 0.8360\n",
      "Epoch 14/100\n",
      "250/250 [==============================] - 0s 1ms/step - loss: 0.3953 - accuracy: 0.8366\n",
      "Epoch 15/100\n",
      "250/250 [==============================] - 0s 1ms/step - loss: 0.3939 - accuracy: 0.8355\n",
      "Epoch 16/100\n",
      "250/250 [==============================] - 0s 1ms/step - loss: 0.3926 - accuracy: 0.8390\n",
      "Epoch 17/100\n",
      "250/250 [==============================] - 0s 1ms/step - loss: 0.3913 - accuracy: 0.8386\n",
      "Epoch 18/100\n",
      "250/250 [==============================] - 0s 1ms/step - loss: 0.3899 - accuracy: 0.8385\n",
      "Epoch 19/100\n",
      "250/250 [==============================] - 0s 1ms/step - loss: 0.3889 - accuracy: 0.8404\n",
      "Epoch 20/100\n",
      "250/250 [==============================] - 0s 1ms/step - loss: 0.3876 - accuracy: 0.8388\n",
      "Epoch 21/100\n",
      "250/250 [==============================] - 0s 1ms/step - loss: 0.3868 - accuracy: 0.8395\n",
      "Epoch 22/100\n",
      "250/250 [==============================] - 0s 1ms/step - loss: 0.3858 - accuracy: 0.8413\n",
      "Epoch 23/100\n",
      "250/250 [==============================] - 0s 1ms/step - loss: 0.3848 - accuracy: 0.8425\n",
      "Epoch 24/100\n",
      "250/250 [==============================] - 0s 1ms/step - loss: 0.3835 - accuracy: 0.8431\n",
      "Epoch 25/100\n",
      "250/250 [==============================] - 0s 1ms/step - loss: 0.3826 - accuracy: 0.8424\n",
      "Epoch 26/100\n",
      "250/250 [==============================] - 0s 1ms/step - loss: 0.3815 - accuracy: 0.8436\n",
      "Epoch 27/100\n",
      "250/250 [==============================] - 0s 1ms/step - loss: 0.3804 - accuracy: 0.8424\n",
      "Epoch 28/100\n",
      "250/250 [==============================] - 0s 1ms/step - loss: 0.3788 - accuracy: 0.8447\n",
      "Epoch 29/100\n",
      "250/250 [==============================] - 0s 1ms/step - loss: 0.3776 - accuracy: 0.8451\n",
      "Epoch 30/100\n",
      "250/250 [==============================] - 0s 1ms/step - loss: 0.3762 - accuracy: 0.8465\n",
      "Epoch 31/100\n",
      "250/250 [==============================] - 0s 1ms/step - loss: 0.3738 - accuracy: 0.8455\n",
      "Epoch 32/100\n",
      "250/250 [==============================] - 0s 1ms/step - loss: 0.3726 - accuracy: 0.8453\n",
      "Epoch 33/100\n",
      "250/250 [==============================] - 0s 1ms/step - loss: 0.3707 - accuracy: 0.8468\n",
      "Epoch 34/100\n",
      "250/250 [==============================] - 0s 1ms/step - loss: 0.3687 - accuracy: 0.8480\n",
      "Epoch 35/100\n",
      "250/250 [==============================] - 0s 1ms/step - loss: 0.3667 - accuracy: 0.8482\n",
      "Epoch 36/100\n",
      "250/250 [==============================] - 0s 1ms/step - loss: 0.3647 - accuracy: 0.8509\n",
      "Epoch 37/100\n",
      "250/250 [==============================] - 0s 1ms/step - loss: 0.3627 - accuracy: 0.8493\n",
      "Epoch 38/100\n",
      "250/250 [==============================] - 0s 1ms/step - loss: 0.3609 - accuracy: 0.8516\n",
      "Epoch 39/100\n",
      "250/250 [==============================] - 0s 1ms/step - loss: 0.3591 - accuracy: 0.8516\n",
      "Epoch 40/100\n",
      "250/250 [==============================] - 0s 1ms/step - loss: 0.3577 - accuracy: 0.8526\n",
      "Epoch 41/100\n",
      "250/250 [==============================] - 0s 1ms/step - loss: 0.3561 - accuracy: 0.8569\n",
      "Epoch 42/100\n",
      "250/250 [==============================] - 0s 1ms/step - loss: 0.3544 - accuracy: 0.8564\n",
      "Epoch 43/100\n",
      "250/250 [==============================] - 0s 1ms/step - loss: 0.3541 - accuracy: 0.8560\n",
      "Epoch 44/100\n",
      "250/250 [==============================] - 0s 1ms/step - loss: 0.3524 - accuracy: 0.8555\n",
      "Epoch 45/100\n",
      "250/250 [==============================] - 0s 1ms/step - loss: 0.3516 - accuracy: 0.8580\n",
      "Epoch 46/100\n",
      "250/250 [==============================] - 0s 1ms/step - loss: 0.3504 - accuracy: 0.8579\n",
      "Epoch 47/100\n",
      "250/250 [==============================] - 0s 1ms/step - loss: 0.3504 - accuracy: 0.8574\n",
      "Epoch 48/100\n",
      "250/250 [==============================] - 0s 1ms/step - loss: 0.3490 - accuracy: 0.8610\n",
      "Epoch 49/100\n",
      "250/250 [==============================] - 0s 1ms/step - loss: 0.3481 - accuracy: 0.8601\n",
      "Epoch 50/100\n",
      "250/250 [==============================] - 0s 1ms/step - loss: 0.3481 - accuracy: 0.8566\n",
      "Epoch 51/100\n",
      "250/250 [==============================] - 0s 1ms/step - loss: 0.3465 - accuracy: 0.8626\n",
      "Epoch 52/100\n",
      "250/250 [==============================] - 0s 1ms/step - loss: 0.3461 - accuracy: 0.8614\n",
      "Epoch 53/100\n",
      "250/250 [==============================] - 0s 1ms/step - loss: 0.3456 - accuracy: 0.8608\n",
      "Epoch 54/100\n",
      "250/250 [==============================] - 0s 1ms/step - loss: 0.3450 - accuracy: 0.8625\n",
      "Epoch 55/100\n",
      "250/250 [==============================] - 0s 1ms/step - loss: 0.3447 - accuracy: 0.8606\n",
      "Epoch 56/100\n",
      "250/250 [==============================] - 0s 1ms/step - loss: 0.3442 - accuracy: 0.8639\n",
      "Epoch 57/100\n",
      "250/250 [==============================] - 0s 1ms/step - loss: 0.3437 - accuracy: 0.8625\n",
      "Epoch 58/100\n",
      "250/250 [==============================] - 0s 1ms/step - loss: 0.3428 - accuracy: 0.8614\n",
      "Epoch 59/100\n",
      "250/250 [==============================] - 0s 1ms/step - loss: 0.3425 - accuracy: 0.8616\n",
      "Epoch 60/100\n",
      "250/250 [==============================] - 0s 1ms/step - loss: 0.3425 - accuracy: 0.8609\n",
      "Epoch 61/100\n",
      "250/250 [==============================] - 0s 1ms/step - loss: 0.3418 - accuracy: 0.8618\n",
      "Epoch 62/100\n",
      "250/250 [==============================] - 0s 1ms/step - loss: 0.3416 - accuracy: 0.8633\n",
      "Epoch 63/100\n",
      "250/250 [==============================] - 0s 1ms/step - loss: 0.3416 - accuracy: 0.8611\n",
      "Epoch 64/100\n",
      "250/250 [==============================] - 0s 1ms/step - loss: 0.3413 - accuracy: 0.8606\n",
      "Epoch 65/100\n",
      "250/250 [==============================] - 0s 1ms/step - loss: 0.3404 - accuracy: 0.8616\n",
      "Epoch 66/100\n",
      "250/250 [==============================] - 0s 1ms/step - loss: 0.3403 - accuracy: 0.8633\n",
      "Epoch 67/100\n",
      "250/250 [==============================] - 0s 1ms/step - loss: 0.3401 - accuracy: 0.8630\n",
      "Epoch 68/100\n",
      "250/250 [==============================] - 0s 1ms/step - loss: 0.3398 - accuracy: 0.8648\n",
      "Epoch 69/100\n",
      "250/250 [==============================] - 0s 993us/step - loss: 0.3396 - accuracy: 0.8635\n",
      "Epoch 70/100\n",
      "250/250 [==============================] - 0s 1ms/step - loss: 0.3391 - accuracy: 0.8637\n",
      "Epoch 71/100\n",
      "250/250 [==============================] - 0s 1ms/step - loss: 0.3386 - accuracy: 0.8634\n",
      "Epoch 72/100\n",
      "250/250 [==============================] - 0s 1ms/step - loss: 0.3384 - accuracy: 0.8640\n",
      "Epoch 73/100\n",
      "250/250 [==============================] - 0s 1ms/step - loss: 0.3375 - accuracy: 0.8633\n",
      "Epoch 74/100\n",
      "250/250 [==============================] - 0s 1ms/step - loss: 0.3380 - accuracy: 0.8648\n",
      "Epoch 75/100\n",
      "250/250 [==============================] - 0s 1ms/step - loss: 0.3368 - accuracy: 0.8648\n",
      "Epoch 76/100\n",
      "250/250 [==============================] - 0s 1ms/step - loss: 0.3374 - accuracy: 0.8654\n",
      "Epoch 77/100\n",
      "250/250 [==============================] - 0s 999us/step - loss: 0.3371 - accuracy: 0.8634\n",
      "Epoch 78/100\n",
      "250/250 [==============================] - 0s 1ms/step - loss: 0.3365 - accuracy: 0.8656\n",
      "Epoch 79/100\n",
      "250/250 [==============================] - 0s 1ms/step - loss: 0.3362 - accuracy: 0.8619\n",
      "Epoch 80/100\n",
      "250/250 [==============================] - 0s 1ms/step - loss: 0.3366 - accuracy: 0.8635\n",
      "Epoch 81/100\n",
      "250/250 [==============================] - 0s 1ms/step - loss: 0.3359 - accuracy: 0.8652\n",
      "Epoch 82/100\n",
      "250/250 [==============================] - 0s 1ms/step - loss: 0.3360 - accuracy: 0.8629\n",
      "Epoch 83/100\n",
      "250/250 [==============================] - 0s 995us/step - loss: 0.3358 - accuracy: 0.8648\n",
      "Epoch 84/100\n",
      "250/250 [==============================] - 0s 1ms/step - loss: 0.3351 - accuracy: 0.8644\n",
      "Epoch 85/100\n",
      "250/250 [==============================] - 0s 996us/step - loss: 0.3346 - accuracy: 0.8641\n",
      "Epoch 86/100\n",
      "250/250 [==============================] - 0s 1ms/step - loss: 0.3356 - accuracy: 0.8646\n",
      "Epoch 87/100\n",
      "250/250 [==============================] - 0s 998us/step - loss: 0.3350 - accuracy: 0.8659\n",
      "Epoch 88/100\n",
      "250/250 [==============================] - 0s 1ms/step - loss: 0.3350 - accuracy: 0.8648\n",
      "Epoch 89/100\n",
      "250/250 [==============================] - 0s 1ms/step - loss: 0.3347 - accuracy: 0.8661\n",
      "Epoch 90/100\n",
      "250/250 [==============================] - 0s 1ms/step - loss: 0.3348 - accuracy: 0.8650\n",
      "Epoch 91/100\n",
      "250/250 [==============================] - 0s 1ms/step - loss: 0.3346 - accuracy: 0.8644\n",
      "Epoch 92/100\n",
      "250/250 [==============================] - 0s 1ms/step - loss: 0.3345 - accuracy: 0.8656\n",
      "Epoch 93/100\n",
      "250/250 [==============================] - 0s 1ms/step - loss: 0.3349 - accuracy: 0.8646\n",
      "Epoch 94/100\n",
      "250/250 [==============================] - 0s 1ms/step - loss: 0.3346 - accuracy: 0.8643\n",
      "Epoch 95/100\n",
      "250/250 [==============================] - 0s 1ms/step - loss: 0.3342 - accuracy: 0.8655\n",
      "Epoch 96/100\n",
      "250/250 [==============================] - 0s 1ms/step - loss: 0.3341 - accuracy: 0.8666\n",
      "Epoch 97/100\n",
      "250/250 [==============================] - 0s 1ms/step - loss: 0.3337 - accuracy: 0.8635\n",
      "Epoch 98/100\n",
      "250/250 [==============================] - 0s 1ms/step - loss: 0.3344 - accuracy: 0.8649\n",
      "Epoch 99/100\n",
      "250/250 [==============================] - 0s 996us/step - loss: 0.3339 - accuracy: 0.8649\n",
      "Epoch 100/100\n",
      "250/250 [==============================] - 0s 1ms/step - loss: 0.3335 - accuracy: 0.8654\n"
     ]
    },
    {
     "data": {
      "text/plain": [
       "<keras.callbacks.History at 0x17647151f10>"
      ]
     },
     "execution_count": 14,
     "metadata": {},
     "output_type": "execute_result"
    }
   ],
   "source": [
    "ann.fit(X_train,Y_train,batch_size=32,epochs = 100)"
   ]
  },
  {
   "cell_type": "markdown",
   "id": "2076932a",
   "metadata": {},
   "source": [
    "Adım 15: Sinir ağı, bağımsız değişkenlerin değerlerine dayanarak müşterinin çıkıp çıkmayacağını tek noktalı olarak tahmin etmeye çalışır"
   ]
  },
  {
   "cell_type": "code",
   "execution_count": 15,
   "id": "e138bfd4",
   "metadata": {
    "scrolled": true
   },
   "outputs": [
    {
     "name": "stdout",
     "output_type": "stream",
     "text": [
      "1/1 [==============================] - 0s 84ms/step\n",
      "[[False]]\n"
     ]
    }
   ],
   "source": [
    "print(ann.predict(sc.transform([[1, 0, 0, 600, 1, 40, 3, 60000, 2, 1, 1,50000]])) > 0.5)"
   ]
  },
  {
   "cell_type": "markdown",
   "id": "9d279fe6",
   "metadata": {},
   "source": [
    "Yorum: Yaklaşık 79 ile 87 arasında accuracy değerleri elde edilir. Bu değerler başarılı sayılabilecek değerlerdir."
   ]
  }
 ],
 "metadata": {
  "kernelspec": {
   "display_name": "Python 3 (ipykernel)",
   "language": "python",
   "name": "python3"
  },
  "language_info": {
   "codemirror_mode": {
    "name": "ipython",
    "version": 3
   },
   "file_extension": ".py",
   "mimetype": "text/x-python",
   "name": "python",
   "nbconvert_exporter": "python",
   "pygments_lexer": "ipython3",
   "version": "3.9.7"
  }
 },
 "nbformat": 4,
 "nbformat_minor": 5
}
